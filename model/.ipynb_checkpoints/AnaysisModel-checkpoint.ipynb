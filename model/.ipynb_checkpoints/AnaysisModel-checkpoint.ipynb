{
 "cells": [
  {
   "cell_type": "markdown",
   "metadata": {},
   "source": [
    "This is the Analysis Model of the KPI"
   ]
  },
  {
   "cell_type": "code",
   "execution_count": 8,
   "metadata": {},
   "outputs": [
    {
     "ename": "AttributeError",
     "evalue": "'Workbook' object has no attribute 'default_style'",
     "output_type": "error",
     "traceback": [
      "\u001b[0;31m---------------------------------------------------------------------------\u001b[0m",
      "\u001b[0;31mAttributeError\u001b[0m                            Traceback (most recent call last)",
      "Cell \u001b[0;32mIn[8], line 4\u001b[0m\n\u001b[1;32m      2\u001b[0m \u001b[38;5;28;01mfrom\u001b[39;00m \u001b[38;5;21;01mopenpyxl\u001b[39;00m \u001b[38;5;28;01mimport\u001b[39;00m Workbook\n\u001b[1;32m      3\u001b[0m wb \u001b[38;5;241m=\u001b[39m Workbook()\n\u001b[0;32m----> 4\u001b[0m default_style \u001b[38;5;241m=\u001b[39m wb\u001b[38;5;241m.\u001b[39mdefault_style\n\u001b[1;32m      5\u001b[0m df \u001b[38;5;241m=\u001b[39m pd\u001b[38;5;241m.\u001b[39mread_excel(\u001b[38;5;124m'\u001b[39m\u001b[38;5;124mPerformance_Management-History_Query-Template_3G_Availability-HAZEL_NCUBE-20240326104334.xlsx\u001b[39m\u001b[38;5;124m'\u001b[39m)\n\u001b[1;32m      6\u001b[0m df_2 \u001b[38;5;241m=\u001b[39m pd\u001b[38;5;241m.\u001b[39mread_excel(\u001b[38;5;124m'\u001b[39m\u001b[38;5;124mPerformance_Management-History_Query-Temporary_Query1-HAZEL_NCUBE-20240318104617.xlsx\u001b[39m\u001b[38;5;124m'\u001b[39m)\n",
      "\u001b[0;31mAttributeError\u001b[0m: 'Workbook' object has no attribute 'default_style'"
     ]
    }
   ],
   "source": [
    "import pandas as pd\n",
    "\n",
    "df = pd.read_excel('Performance_Management-History_Query-Template_3G_Availability-HAZEL_NCUBE-20240326104334.xlsx')\n",
    "df_2 = pd.read_excel('Performance_Management-History_Query-Temporary_Query1-HAZEL_NCUBE-20240318104617.xlsx')\n"
   ]
  },
  {
   "cell_type": "code",
   "execution_count": 7,
   "metadata": {},
   "outputs": [
    {
     "name": "stdout",
     "output_type": "stream",
     "text": [
      "Number of Rows: 17719\n",
      "Number of Columns: 13\n",
      "Shape of dataset1 (45817, 15)\n",
      "Shape of dataset2 (17719, 13)\n"
     ]
    }
   ],
   "source": [
    "rows, cols = df_2.shape\n",
    "\n",
    "print(\"Number of Rows:\", rows)\n",
    "print(\"Number of Columns:\", cols)\n"
   ]
  },
  {
   "cell_type": "code",
   "execution_count": null,
   "metadata": {},
   "outputs": [],
   "source": []
  }
 ],
 "metadata": {
  "kernelspec": {
   "display_name": "Python 3 (ipykernel)",
   "language": "python",
   "name": "python3"
  },
  "language_info": {
   "codemirror_mode": {
    "name": "ipython",
    "version": 3
   },
   "file_extension": ".py",
   "mimetype": "text/x-python",
   "name": "python",
   "nbconvert_exporter": "python",
   "pygments_lexer": "ipython3",
   "version": "3.11.7"
  }
 },
 "nbformat": 4,
 "nbformat_minor": 4
}
